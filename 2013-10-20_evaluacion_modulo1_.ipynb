{
 "cells": [
  {
   "cell_type": "code",
   "execution_count": 440,
   "metadata": {},
   "outputs": [],
   "source": [
    "import re\n",
    "\n",
    "class TiendaOnline:\n",
    "    def __init__(self):\n",
    "        self.inventario = []  # lista de diccionario vacia [{'nombre': 'Camisa', 'precio': 20, 'cantidad': 40}\n",
    "                                                          #{'nombre': 'Pantalón', 'precio': 30, 'cantidad': 30}]    \n",
    "        self.clientes = {}    # Diccionario vacio - info clientes\n",
    "        self.ventas_totales = 0.0  # Registro en float para las ventas totales\n",
    "\n",
    "        self.valor_carrito = 0.0\n",
    "        self.carrito = []\n",
    "\n",
    "        self.num_cliente = 1    #Creamos una referencia de num de cliente que augmente en 1 cada vez que se añade nuevo cliente. Aquí se inicia el contador del registro (#se aplica en 10-agregar cliente)\n",
    "\n",
    "#1 AGREGAMOS PRODUCTO\n",
    "    def agregar_producto(self, nombre, precio, cantidad):\n",
    "        nombre = nombre.lower()  #programación defensiva\n",
    "        for producto in self.inventario:\n",
    "            if producto['nombre'] == nombre:\n",
    "                producto['cantidad'] += cantidad # Si el producto ya existe, actualiza la cantidad y precio\n",
    "                producto['precio'] = precio\n",
    "                print (\"El producto ya existe. Se ha agregado la cantidad\")\n",
    "                \n",
    "                \n",
    "        else:\n",
    "            # Si el producto no existe, agrega un nuevo producto al inventario\n",
    "            nuevo_producto = {'nombre': nombre, 'precio': precio, 'cantidad': cantidad}\n",
    "            print(\"El producto se ha agregado al inventario\")\n",
    "            self.inventario.append(nuevo_producto)\n",
    "       \n",
    "#2 VER EL INVENTARIO\n",
    "\n",
    "    def ver_inventario(self):\n",
    "        for producto in self.inventario:\n",
    "            print(f\"Nombre: {producto['nombre']}, Precio: ${producto['precio']}, Cantidad: {producto['cantidad']}\")\n",
    "\n",
    "\n",
    "#3 BUSCAR PRODUCTO EN EL INVENTARIO \n",
    "\n",
    "    def buscar_producto(self, nombre):\n",
    "        for producto in self.inventario:\n",
    "            if producto['nombre'] == nombre:\n",
    "                print(f\"El producto consta en el inventario con los siguientes datos: \\n{producto['nombre']}, Precio: ${producto['precio']}, Cantidad: {producto['cantidad']}\")\n",
    "                return nombre\n",
    "            else:\n",
    "                print(f\"El producto {nombre} no consta en el inventario\")\n",
    "                break\n",
    "\n",
    "\n",
    "#4 ACTUALIZAR EL STOCK DEL INVENTARIO\n",
    "\n",
    "    def actualizar_stock(self, nombre, cantidad):\n",
    "        for producto in self.inventario:\n",
    "            if producto['nombre'] == nombre:\n",
    "                producto ['cantidad'] = cantidad\n",
    "                return(f\"El {producto['nombre']} ha actualizado la cantidad a {cantidad}\")\n",
    "                \n",
    "            \n",
    "        return (\"ATENCIÓN: Este producto no está en el inventario\")\n",
    "                 \n",
    "\n",
    "\n",
    "#5 ELIMINAR PRODUCTO\n",
    "\n",
    "    def eliminar_producto(self, nombre):\n",
    "        for producto in self.inventario:\n",
    "            if producto['nombre'] == nombre:\n",
    "                self.inventario.remove(producto)\n",
    "                return f\"El producto {nombre} ha sido eliminado del inventario. Ahora el inventario consta de: {self.inventario}\"\n",
    "            \n",
    "        return f\"El producto {nombre} no está en stock, no se puede eliminar.\" #chequear el inventario antes de comprobar que no hay stock\n",
    "    \n",
    "\n",
    "#6 Calcular VALOR inventario\n",
    "    \n",
    "    def calcular_valor_inventario(self):\n",
    "        valor_total = 0  # Inicializa el valor total en 0\n",
    "\n",
    "        for producto in self.inventario:\n",
    "            valor_producto = producto['precio'] * producto['cantidad']\n",
    "            valor_total += valor_producto  # Suma el valor del producto al valor total\n",
    "\n",
    "        # Imprime el valor total del inventario\n",
    "        return(f'El valor total del inventario es: ${valor_total}')\n",
    "        \n",
    "# 7 REGEX - buscar producto\n",
    "\n",
    "    def buscar_producto_regex(self, patron):\n",
    "        productos_encontrados = []\n",
    "\n",
    "        for producto in self.inventario:\n",
    "            if re.search(patron, producto['nombre'], re.IGNORECASE): #re.IGNORECASE para que no importe si se escribe en MAY o min\n",
    "                productos_encontrados.append(producto)\n",
    "\n",
    "        if productos_encontrados: #si se encuentra cpincidencia del producto, se añade a la lista productos encontrados y se muestra la información de dicc. inventario\n",
    "            print(\"Productos encontrados que coinciden con el patrón:\")\n",
    "            for producto in productos_encontrados:\n",
    "                print(f\"Nombre: {producto['nombre']}, Cantidad: {producto['cantidad']}\")\n",
    "        else:\n",
    "            print(\"No se encontraron productos que coincidan con el patrón.\")\n",
    "\n",
    "\n",
    "\n",
    "        \n",
    "\n",
    "#8 REALIZAR COMPRA\n",
    "    def realizar_compra(self):\n",
    "        print(\"Estos son nuestros productos:\")\n",
    "        print(\"_______\")\n",
    "        self.ver_inventario()  # Recuperamos el inventario creado en el paso 2\n",
    "\n",
    "        self.carrito = []  # Lista vacía que almacenará los artículos a comprar\n",
    "        self.valor_carrito = 0  # Variable con valor de inicio 0 que almacenará el valor total de los artículos a comprar\n",
    "\n",
    "        quieres_comprar = input(\"¿Quieres iniciar el proceso de compra? (S/N)\")\n",
    "\n",
    "        while quieres_comprar.lower() == \"s\":\n",
    "            compra_usuario = input(\"¿Qué producto deseas comprar? (Indica un producto de la lista)\")\n",
    "            \n",
    "            producto_encontrado = None  # Valor nulo para indicar que por defecto no se ha encontrado el producto\n",
    "\n",
    "            for producto in self.inventario:\n",
    "                if producto['nombre'] == compra_usuario:\n",
    "                    producto_encontrado = producto\n",
    "                    break\n",
    "\n",
    "            if producto_encontrado:\n",
    "                cantidad_articulo = int(input(f\"¿Cuántos '{compra_usuario}' deseas comprar? (Ingresa la cantidad)\"))\n",
    "\n",
    "                if cantidad_articulo > producto_encontrado['cantidad']:    #En el caso que el cliente quiera un numero superior de productos al que hay en stock\n",
    "                    print(f\"Solo hay {producto_encontrado['cantidad']} de '{compra_usuario}' en stock.\")\n",
    "                else:\n",
    "                    valor_producto_comprar = producto_encontrado['precio'] * cantidad_articulo\n",
    "                    self.valor_carrito += valor_producto_comprar\n",
    "                    self.carrito.append((compra_usuario, cantidad_articulo))\n",
    "                    print(\"_______\")\n",
    "                    print(f\"Has agregado {cantidad_articulo} '{compra_usuario}' al carrito.\\nDe momento la compra sube a: $ {self.valor_carrito}\")\n",
    "            \n",
    "                   \n",
    "                    # Actualizar el stock restando la cantidad comprada >>>>>>>COMPROBAR\n",
    "                    producto_encontrado['cantidad'] -= cantidad_articulo\n",
    "\n",
    "\n",
    "            else:\n",
    "                print(\"_______\")\n",
    "                print(f\"El producto '{compra_usuario}' no consta en el inventario.\")\n",
    "\n",
    "            quieres_comprar = input(\"¿Quieres seguir comprando? (S/N)\")\n",
    "\n",
    "\n",
    "        #Resumen de la compra:\n",
    "        if self.carrito:\n",
    "            print(\"_______\")\n",
    "            print(\"Resumen de la compra:\")\n",
    "            for producto, cantidad in self.carrito:\n",
    "                print(f\"{cantidad} '{producto}'\")          #mostramos diccionario desglosando num productos / productos \n",
    "            print(\"_______\")        \n",
    "            print(f\"Valor total del carrito: $ {self.valor_carrito}\")  #calculo del valor total del carrito\n",
    "        else:\n",
    "            print(\"_______\")\n",
    "            print(\"No se ha agregado ningún producto al carrito.\")\n",
    "        \n",
    "            \n",
    "            \n",
    "        \n",
    "\n",
    "#9 PROCESAR PAGO\n",
    "\n",
    "    def procesar_pago(self):\n",
    "        try:\n",
    "            print(f\"\"\"Procesando el pago... \n",
    "                  \\n El valor total a pagar es de {self.valor_carrito}\"\"\")\n",
    "            cantidad_a_pagar = float(input(f\"Ingrese la cantidad de pago: ${self.valor_carrito}\"))\n",
    "\n",
    "            if cantidad_a_pagar < self.valor_carrito:\n",
    "                falta_pagar = self.valor_carrito - cantidad_a_pagar\n",
    "                dinero_restante = float(input(f\"Cantidad insuficiente. Le falta por pagar ${falta_pagar}\\nPor favor, ingrese la cantidad: \"))\n",
    "            \n",
    "                if dinero_restante == falta_pagar:\n",
    "                    print(\"Pago realizado con éxito.\")\n",
    "                else:\n",
    "                    print(\"Cantidad insuficiente. Operación cancelada.\")\n",
    "\n",
    "            elif cantidad_a_pagar > self.valor_carrito:\n",
    "                cambio = cantidad_a_pagar - self.valor_carrito\n",
    "                print(f\"Pago realizado con éxito. Cambio: ${cambio}\")\n",
    "\n",
    "            else:\n",
    "                print(\"Pago realizado con éxito. No se necesita cambio.\")\n",
    "\n",
    "        except ValueError:\n",
    "            print(\"Error: Ingrese una cantidad válida en números.\")\n",
    "\n",
    "\n",
    "#10 AGREGAR CLIENTES\n",
    "    \n",
    "    def agregar_cliente(self, nombre_cliente, email_cliente):\n",
    "        nuevo_cliente = input(\"¿Desea agregar un nuevo cliente? S/N\")\n",
    "\n",
    "        if nuevo_cliente.lower() == \"s\":\n",
    "            # Incrementa el número de referencia cliente para el siguiente cliente\n",
    "            self.num_cliente += 1\n",
    "\n",
    "            num_cliente_str = f\"Cliente{self.num_cliente:00}\"\n",
    "            num_cliente_str = num_cliente_str.lower() ## ojo aqui\n",
    "\n",
    "            # Nos aseguramos de que self.clientes sea un diccionario\n",
    "            if not isinstance(self.clientes, dict):\n",
    "                self.clientes = {}\n",
    "\n",
    "            # Para agregar el cliente al diccionario\n",
    "            self.clientes[num_cliente_str] = {\n",
    "                \"nombre\": nombre_cliente,\n",
    "                \"email\": email_cliente,\n",
    "                \"carrito\": {}  # Inicializa el carrito como un diccionario vacío\n",
    "            }\n",
    "\n",
    "            print(f\"Se ha registrado el nuevo cliente ---> Ref: {num_cliente_str}: Nombre: {nombre_cliente} Correo electrónico: {email_cliente}\")\n",
    "\n",
    "        else:\n",
    "            pass\n",
    "\n",
    "\n",
    "\n",
    "\n",
    "#11 VER CLIENTES\n",
    "\n",
    "    def ver_clientes(self):\n",
    "        print(\"Los clientes registrados son:\")  # Mueve este mensaje fuera del bucle\n",
    "        for nombre, email in self.clientes.items(): #devolvemos todas las clave/valor del diccionario clientes\n",
    "            print(f\"Nombre: {nombre}, correo electrónico: {email}\")\n",
    "\n",
    "#12 REGISTRAR COMPRA\n",
    "\n",
    "    def registrar_compra(self, nombre_cliente, carrito):\n",
    "        \n",
    "        nombre_cliente = nombre_cliente.lower() \n",
    "        \n",
    "        if nombre_cliente in self.clientes:\n",
    "            total_compra = 0.0\n",
    "            for producto, detalles in carrito.items():\n",
    "                precio = detalles[\"precio\"]\n",
    "                cantidad = detalles[\"cantidad\"]\n",
    "                total_producto = precio * cantidad\n",
    "                total_compra += total_producto\n",
    "\n",
    "                # Añadir el historial de compra del carrito (que es un diccionario) en el diccionario del cliente. Si no existe, se crea\n",
    "                if \"carrito\" not in self.clientes[nombre_cliente]:\n",
    "                    self.clientes[nombre_cliente][\"carrito\"] = {}  \n",
    "                if producto in self.clientes[nombre_cliente][\"carrito\"]:\n",
    "                    self.clientes[nombre_cliente][\"carrito\"][producto][\"cantidad\"] += cantidad\n",
    "                else:\n",
    "                    self.clientes[nombre_cliente][\"carrito\"][producto] = detalles\n",
    "\n",
    "            # Actualiza las ventas totales\n",
    "            self.ventas_totales += total_compra\n",
    "\n",
    "            print(f\"\"\"Compra registrada para {nombre_cliente}. \n",
    "                  \\nCarrito de la compra {carrito}\n",
    "                  \\nTotal de la compra: ${total_compra:.2f}\n",
    "                  \\n_______________________________________\"\"\")\n",
    "        else:\n",
    "            print(f\"No se puede realizar la acción porque el cliente '{nombre_cliente}' no está en el diccionario.\")\n",
    "\n",
    "\n",
    "# 13 VER COMPRAS CLIENTE #NO DETECTA BIEN EL DICCIONARIO --->NO SOLUCIONADO\n",
    "\n",
    "    def ver_compras_cliente(self, nombre_cliente):\n",
    "        nombre_cliente = nombre_cliente.lower()\n",
    "\n",
    "        # Para verificar si el cliente existe en el diccionario de clientes:\n",
    "        if nombre_cliente in self.clientes:\n",
    "            historial_compras = self.clientes[nombre_cliente].get(\"carrito\", {})\n",
    "\n",
    "            if historial_compras:\n",
    "                print(f\"Historial de compras para el cliente '{nombre_cliente}':\")\n",
    "                for compra, detalles in historial_compras.items():\n",
    "                    print(f\"Compra: {compra}\")\n",
    "                    if isinstance(detalles, dict):  # Verificar si detalles es un diccionario válido\n",
    "                        for producto, producto_detalles in detalles.items():\n",
    "                            print(f\" - Producto: {producto}\")\n",
    "                            if isinstance(producto_detalles, dict):  # Verificar si producto_detalles es un diccionario válido\n",
    "                                cantidad = producto_detalles.get('cantidad', 0)\n",
    "                                print(f\"   - Cantidad: {cantidad}\")\n",
    "                                precio = producto_detalles.get('precio', 0)\n",
    "                                print(f\"   - Precio por unidad: ${precio:.2f}\")\n",
    "                                total_producto = cantidad * precio\n",
    "                                print(f\"   - Total: ${total_producto:.2f}\")\n",
    "                            else:\n",
    "                                print(f\"   - Los detalles del producto no son válidos\")\n",
    "                    else:\n",
    "                        print(\" - Los detalles de la compra no son válidos\")\n",
    "            else:\n",
    "                print(f\"El cliente '{nombre_cliente}' no tiene historial de compras.\")\n",
    "        else:\n",
    "            print(f\"El cliente '{nombre_cliente}' no está en el registro de clientes.\")\n",
    "\n",
    "\n",
    "\n",
    "#14 VENTAS TOTALES --->NO SOLUCIONADO\n",
    "\n",
    "# self.clientes es un diccionario de clientes, cada cliente son historial de compras. Se tiene que  iterar estos historiales para calcular la suma de todas las compras. \n",
    "    def calcular_ventas_totales(self):\n",
    "        self.ventas_totales = 0.0  \n",
    "\n",
    "        for nombre_cliente, detalles_cliente in self.clientes.items():\n",
    "            historial_compras = detalles_cliente.get(\"carrito\", {})\n",
    "            if isinstance(historial_compras, dict): #habia incoherencias y no detectava historial_compras como diccionario\n",
    "                for compra in historial_compras.values():\n",
    "                    if isinstance(compra, dict):\n",
    "                        for producto, producto_detalles in compra.items():\n",
    "                            if isinstance(producto_detalles, dict):\n",
    "                                cantidad = producto_detalles.get('cantidad', 0)\n",
    "                                precio = producto_detalles.get('precio', 0)\n",
    "                                total_compra_producto = cantidad * precio\n",
    "                                self.ventas_totales += total_compra_producto\n",
    "\n",
    "        return f\"Ventas totales de la tienda: ${self.ventas_totales}\"\n",
    "\n",
    "\n",
    "\n",
    "\n",
    "\n"
   ]
  },
  {
   "cell_type": "markdown",
   "metadata": {},
   "source": [
    "# INSTANCIAS:"
   ]
  },
  {
   "cell_type": "code",
   "execution_count": 441,
   "metadata": {},
   "outputs": [
    {
     "name": "stdout",
     "output_type": "stream",
     "text": [
      "1 - COMPROBAMOS QUE SE HAN AGREGADO LOS PRODUCTOS AL DICCIONARIO\n",
      "El producto se ha agregado al inventario\n",
      "El producto se ha agregado al inventario\n",
      "El producto se ha agregado al inventario\n",
      "El producto se ha agregado al inventario\n",
      "El producto se ha agregado al inventario\n",
      "El producto se ha agregado al inventario\n",
      "El producto se ha agregado al inventario\n",
      "El producto se ha agregado al inventario\n",
      "_____\n",
      "ACCEDEMOS AL DICCIONARIO\n",
      "El inventario consta de:  [{'nombre': 'collar', 'precio': 5, 'cantidad': 100}, {'nombre': 'pantalón', 'precio': 13, 'cantidad': 13}, {'nombre': 'rebeca', 'precio': 24, 'cantidad': 42}, {'nombre': 'cintas pelo', 'precio': 20, 'cantidad': 5}, {'nombre': 'faldas 222', 'precio': 25, 'cantidad': 30}, {'nombre': 'faldas 223', 'precio': 20, 'cantidad': 30}, {'nombre': 'faldas 243', 'precio': 10, 'cantidad': 30}, {'nombre': 'faldas 313', 'precio': 12, 'cantidad': 30}]\n",
      "______________\n"
     ]
    }
   ],
   "source": [
    "#1 Comprobación del agregado de productos\n",
    "print (\"1 - COMPROBAMOS QUE SE HAN AGREGADO LOS PRODUCTOS AL DICCIONARIO\")\n",
    "mi_tienda = TiendaOnline()\n",
    "\n",
    "mi_tienda.agregar_producto(\"collar\", 5, 100)\n",
    "mi_tienda.agregar_producto(\"Pantalón\", 13, 13)\n",
    "mi_tienda.agregar_producto(\"rebeca\", 24, 42)\n",
    "mi_tienda.agregar_producto(\"cintas pelo\", 20, 5)\n",
    "mi_tienda.agregar_producto(\"faldas 222\", 25, 30)\n",
    "mi_tienda.agregar_producto(\"faldas 223\", 20, 30)\n",
    "mi_tienda.agregar_producto(\"faldas 243\", 10, 30)\n",
    "mi_tienda.agregar_producto(\"faldas 313\", 12, 30)\n",
    "print(\"_____\")\n",
    "\n",
    "# Accedemos al inventario a través de la instancia\n",
    "print (\"ACCEDEMOS AL DICCIONARIO\")\n",
    "dic_inventario = mi_tienda.inventario\n",
    "\n",
    "print(\"El inventario consta de: \", dic_inventario)\n",
    "\n",
    "print(\"______________\")"
   ]
  },
  {
   "cell_type": "code",
   "execution_count": 442,
   "metadata": {},
   "outputs": [
    {
     "name": "stdout",
     "output_type": "stream",
     "text": [
      "2 - VEMOS EL DICCIONARIO ESTRUCTURADO:\n",
      "________\n",
      "Nombre: collar, Precio: $5, Cantidad: 100\n",
      "Nombre: pantalón, Precio: $13, Cantidad: 13\n",
      "Nombre: rebeca, Precio: $24, Cantidad: 42\n",
      "Nombre: cintas pelo, Precio: $20, Cantidad: 5\n",
      "Nombre: faldas 222, Precio: $25, Cantidad: 30\n",
      "Nombre: faldas 223, Precio: $20, Cantidad: 30\n",
      "Nombre: faldas 243, Precio: $10, Cantidad: 30\n",
      "Nombre: faldas 313, Precio: $12, Cantidad: 30\n",
      "________\n"
     ]
    }
   ],
   "source": [
    "# 2 Vemos el diccionario estructurado: \n",
    "print (\"2 - VEMOS EL DICCIONARIO ESTRUCTURADO:\")\n",
    "print(\"________\")\n",
    "mi_tienda.ver_inventario()\n",
    "print(\"________\")"
   ]
  },
  {
   "cell_type": "code",
   "execution_count": 443,
   "metadata": {},
   "outputs": [
    {
     "name": "stdout",
     "output_type": "stream",
     "text": [
      "3 - ¿EL PRODUCTO ESTÁ EN EL INVENTARIO?\n",
      "El producto faldas 222 no consta en el inventario\n",
      "____\n"
     ]
    }
   ],
   "source": [
    "#3 Comprobación de si el producto está en el inventario:\n",
    "print (\"3 - ¿EL PRODUCTO ESTÁ EN EL INVENTARIO?\")\n",
    "mi_tienda.buscar_producto(\"faldas 222\")\n",
    "\n",
    "\n",
    "print(\"____\")"
   ]
  },
  {
   "cell_type": "code",
   "execution_count": 444,
   "metadata": {},
   "outputs": [
    {
     "name": "stdout",
     "output_type": "stream",
     "text": [
      "4 - ¿SE HA ACTUALIZADO EL STOCK?\n",
      "El collar ha actualizado la cantidad a 100\n",
      "_____\n",
      "Nombre: collar, Precio: $5, Cantidad: 100\n",
      "Nombre: pantalón, Precio: $13, Cantidad: 13\n",
      "Nombre: rebeca, Precio: $24, Cantidad: 42\n",
      "Nombre: cintas pelo, Precio: $20, Cantidad: 5\n",
      "Nombre: faldas 222, Precio: $25, Cantidad: 30\n",
      "Nombre: faldas 223, Precio: $20, Cantidad: 30\n",
      "Nombre: faldas 243, Precio: $10, Cantidad: 30\n",
      "Nombre: faldas 313, Precio: $12, Cantidad: 30\n",
      "________\n"
     ]
    }
   ],
   "source": [
    "#4 Vemos si se ha actualizado el stock:\n",
    "print (\"4 - ¿SE HA ACTUALIZADO EL STOCK?\")\n",
    "print(mi_tienda.actualizar_stock('collar', 100))\n",
    "\n",
    "print (\"_____\")\n",
    "\n",
    "# printeamos el diccionario inventario de nuevo para comprobar el cambio:\n",
    "mi_tienda.ver_inventario()\n",
    "print(\"________\")"
   ]
  },
  {
   "cell_type": "code",
   "execution_count": 445,
   "metadata": {},
   "outputs": [
    {
     "name": "stdout",
     "output_type": "stream",
     "text": [
      "5 - ¿SE HA ELIMINADO EL PRODUCTO EL STOCK?\n",
      "________\n",
      "Nombre: collar, Precio: $5, Cantidad: 100\n",
      "Nombre: pantalón, Precio: $13, Cantidad: 13\n",
      "Nombre: rebeca, Precio: $24, Cantidad: 42\n",
      "Nombre: cintas pelo, Precio: $20, Cantidad: 5\n",
      "Nombre: faldas 222, Precio: $25, Cantidad: 30\n",
      "Nombre: faldas 223, Precio: $20, Cantidad: 30\n",
      "Nombre: faldas 243, Precio: $10, Cantidad: 30\n",
      "________\n"
     ]
    }
   ],
   "source": [
    "#5 Vemos si se ha eliminado el producto del stock:\n",
    "print (\"5 - ¿SE HA ELIMINADO EL PRODUCTO EL STOCK?\")\n",
    "print(\"________\")\n",
    "mi_tienda.eliminar_producto(\"faldas 313\")\n",
    "\n",
    "# printeamos el diccionario inventario de nuevo para comprobar el que se ha eliminado el producto del stock:\n",
    "mi_tienda.ver_inventario()\n",
    "print(\"________\")"
   ]
  },
  {
   "cell_type": "code",
   "execution_count": 446,
   "metadata": {},
   "outputs": [
    {
     "name": "stdout",
     "output_type": "stream",
     "text": [
      "6 - CALCULAR VALOR TOTAL DEL INVENTARIO\n"
     ]
    },
    {
     "data": {
      "text/plain": [
       "'El valor total del inventario es: $3427'"
      ]
     },
     "execution_count": 446,
     "metadata": {},
     "output_type": "execute_result"
    }
   ],
   "source": [
    "#6 Calcular valor inventario\n",
    "print(\"6 - CALCULAR VALOR TOTAL DEL INVENTARIO\")\n",
    "mi_tienda.calcular_valor_inventario()"
   ]
  },
  {
   "cell_type": "code",
   "execution_count": 447,
   "metadata": {},
   "outputs": [
    {
     "name": "stdout",
     "output_type": "stream",
     "text": [
      "Productos encontrados que coinciden con el patrón:\n",
      "Nombre: faldas 222, Cantidad: 30\n",
      "Nombre: faldas 223, Cantidad: 30\n",
      "Nombre: faldas 243, Cantidad: 30\n"
     ]
    }
   ],
   "source": [
    "#7 Encontrar elementos del inventario con REGEX\n",
    "\n",
    "patron = r'fa'  # Patrón de búsqueda, por ejemplo, busca productos que contienen \"fa\" de falda\n",
    "\n",
    "mi_tienda.buscar_producto_regex(patron)"
   ]
  },
  {
   "cell_type": "code",
   "execution_count": 448,
   "metadata": {},
   "outputs": [
    {
     "name": "stdout",
     "output_type": "stream",
     "text": [
      "Estos son nuestros productos:\n",
      "_______\n",
      "Nombre: collar, Precio: $5, Cantidad: 100\n",
      "Nombre: pantalón, Precio: $13, Cantidad: 13\n",
      "Nombre: rebeca, Precio: $24, Cantidad: 42\n",
      "Nombre: cintas pelo, Precio: $20, Cantidad: 5\n",
      "Nombre: faldas 222, Precio: $25, Cantidad: 30\n",
      "Nombre: faldas 223, Precio: $20, Cantidad: 30\n",
      "Nombre: faldas 243, Precio: $10, Cantidad: 30\n",
      "_______\n",
      "No se ha agregado ningún producto al carrito.\n"
     ]
    }
   ],
   "source": [
    "#8 REALIZAR COMPRA (mediante input)\n",
    "\n",
    "mi_tienda.realizar_compra()\n"
   ]
  },
  {
   "cell_type": "code",
   "execution_count": 449,
   "metadata": {},
   "outputs": [
    {
     "name": "stdout",
     "output_type": "stream",
     "text": [
      "Nombre: collar, Precio: $5, Cantidad: 100\n",
      "Nombre: pantalón, Precio: $13, Cantidad: 13\n",
      "Nombre: rebeca, Precio: $24, Cantidad: 42\n",
      "Nombre: cintas pelo, Precio: $20, Cantidad: 5\n",
      "Nombre: faldas 222, Precio: $25, Cantidad: 30\n",
      "Nombre: faldas 223, Precio: $20, Cantidad: 30\n",
      "Nombre: faldas 243, Precio: $10, Cantidad: 30\n"
     ]
    }
   ],
   "source": [
    "# 8.2 Comprobación de que el después de la compra el stock se ha actualizado:\n",
    "mi_tienda.ver_inventario()"
   ]
  },
  {
   "cell_type": "code",
   "execution_count": 450,
   "metadata": {},
   "outputs": [
    {
     "name": "stdout",
     "output_type": "stream",
     "text": [
      "Procesando el pago... \n",
      "                  \n",
      " El valor total a pagar es de 0\n",
      "Pago realizado con éxito. No se necesita cambio.\n"
     ]
    }
   ],
   "source": [
    "#9 REALIZAR PAGO (mediante input)\n",
    "\n",
    "mi_tienda.procesar_pago()"
   ]
  },
  {
   "cell_type": "code",
   "execution_count": 451,
   "metadata": {},
   "outputs": [
    {
     "name": "stdout",
     "output_type": "stream",
     "text": [
      "Se ha registrado el nuevo cliente ---> Ref: cliente2: Nombre: samuel Correo electrónico: samu@el.com\n",
      "Se ha registrado el nuevo cliente ---> Ref: cliente3: Nombre: Marieta Correo electrónico: marieta@gmail.com\n"
     ]
    }
   ],
   "source": [
    "#10 Agregar cliente (por input sale la confirmación de la entrada que ponemos en los argumentos)\n",
    "\n",
    "mi_tienda.agregar_cliente('samuel','samu@el.com') #en el input se debe poner los mismos valores\n",
    "mi_tienda.agregar_cliente('Marieta','marieta@gmail.com')"
   ]
  },
  {
   "cell_type": "code",
   "execution_count": 452,
   "metadata": {},
   "outputs": [
    {
     "name": "stdout",
     "output_type": "stream",
     "text": [
      "Los clientes registrados son:\n",
      "Nombre: cliente2, correo electrónico: {'nombre': 'samuel', 'email': 'samu@el.com', 'carrito': {}}\n",
      "Nombre: cliente3, correo electrónico: {'nombre': 'Marieta', 'email': 'marieta@gmail.com', 'carrito': {}}\n"
     ]
    }
   ],
   "source": [
    "#11 Ver el diccionario de clientes\n",
    "\n",
    "registro_clientes = mi_tienda.ver_clientes()\n"
   ]
  },
  {
   "cell_type": "code",
   "execution_count": 453,
   "metadata": {},
   "outputs": [
    {
     "name": "stdout",
     "output_type": "stream",
     "text": [
      "Compra registrada para cliente2. \n",
      "                  \n",
      "Carrito de la compra {'Pantalón': {'precio': 30, 'cantidad': 2}}\n",
      "                  \n",
      "Total de la compra: $60.00\n",
      "                  \n",
      "_______________________________________\n",
      "Compra registrada para cliente3. \n",
      "                  \n",
      "Carrito de la compra {'collar': {'precio': 150, 'cantidad': 1}}\n",
      "                  \n",
      "Total de la compra: $150.00\n",
      "                  \n",
      "_______________________________________\n"
     ]
    }
   ],
   "source": [
    "#12 Registrar compra\n",
    "\n",
    "carrito_cliente3 = {\"collar\": {\"precio\": 150, \"cantidad\": 1}}\n",
    "carrito_cliente2 = {\"Pantalón\": {\"precio\": 30, \"cantidad\": 2}}\n",
    "\n",
    "# Registra compras para diferentes clientes\n",
    "mi_tienda.registrar_compra(\"cliente2\", carrito_cliente2)\n",
    "mi_tienda.registrar_compra(\"cliente3\", carrito_cliente3)\n",
    "\n"
   ]
  },
  {
   "cell_type": "code",
   "execution_count": 456,
   "metadata": {},
   "outputs": [
    {
     "name": "stdout",
     "output_type": "stream",
     "text": [
      "Historial de compras para el cliente 'cliente2':\n",
      "Compra: Pantalón\n",
      " - Producto: precio\n",
      "   - Los detalles del producto no son válidos\n",
      " - Producto: cantidad\n",
      "   - Los detalles del producto no son válidos\n"
     ]
    }
   ],
   "source": [
    "#13 Ver compras clientes #no funciona\n",
    "mi_tienda.ver_compras_cliente('cliente2')\n"
   ]
  },
  {
   "cell_type": "code",
   "execution_count": 370,
   "metadata": {},
   "outputs": [
    {
     "data": {
      "text/plain": [
       "'Ventas totales de la tienda: $0.0'"
      ]
     },
     "execution_count": 370,
     "metadata": {},
     "output_type": "execute_result"
    }
   ],
   "source": [
    "#14 Compras totales #no funciona\n",
    "mi_tienda.calcular_ventas_totales()\n"
   ]
  }
 ],
 "metadata": {
  "kernelspec": {
   "display_name": "base",
   "language": "python",
   "name": "python3"
  },
  "language_info": {
   "codemirror_mode": {
    "name": "ipython",
    "version": 3
   },
   "file_extension": ".py",
   "mimetype": "text/x-python",
   "name": "python",
   "nbconvert_exporter": "python",
   "pygments_lexer": "ipython3",
   "version": "3.9.7"
  }
 },
 "nbformat": 4,
 "nbformat_minor": 2
}
